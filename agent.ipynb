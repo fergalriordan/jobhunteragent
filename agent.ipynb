{
 "cells": [
  {
   "cell_type": "code",
   "execution_count": null,
   "id": "2813678e",
   "metadata": {},
   "outputs": [],
   "source": [
    "# Import relevant functionality\n",
    "from langchain.chat_models import init_chat_model\n",
    "from langgraph.checkpoint.memory import MemorySaver\n",
    "from langgraph.prebuilt import create_react_agent\n",
    "\n",
    "from tools.generate_tailored_cv import generate_tailored_cv\n",
    "from tools.convert_to_pdf import convert_to_pdf\n",
    "\n",
    "# Create the agent\n",
    "memory = MemorySaver()\n",
    "model = init_chat_model(\"openai:gpt-4\")\n",
    "tools = [generate_tailored_cv, convert_to_pdf]\n",
    "agent_executor = create_react_agent(model, tools, checkpointer=memory)"
   ]
  },
  {
   "cell_type": "code",
   "execution_count": 2,
   "id": "76a685e6",
   "metadata": {},
   "outputs": [
    {
     "name": "stdout",
     "output_type": "stream",
     "text": [
      "================================\u001b[1m Human Message \u001b[0m=================================\n",
      "\n",
      "Generate a tailored CV. Use the job description at job_description.txt.\n",
      "==================================\u001b[1m Ai Message \u001b[0m==================================\n",
      "Tool Calls:\n",
      "  generate_tailored_cv (call_25gYkTy5NNexXiOBCeTQCAXF)\n",
      " Call ID: call_25gYkTy5NNexXiOBCeTQCAXF\n",
      "  Args:\n",
      "    path_to_job_listing: job_description.txt\n",
      "{\n",
      "  \"Profile\": \"Engineer with a First-Class Honours MEng in Electronic & Computer Engineering, specialising in AI and software development. Experienced in building scalable, efficient systems using Python and orchestrating AI workflows with LangChain. Proven track record in simplifying complex systems and driving impactful solutions. Passionate about leveraging technology to create value and eager to contribute to Bending Spoons' mission.\",\n",
      "  \"Technical Skills\": {\n",
      "    \"Key Competencies\": [\n",
      "      \"Agentic AI\",\n",
      "      \"Generative AI\",\n",
      "      \"Simplification\"\n",
      "    ],\n",
      "    \"Programming Languages\": [\n",
      "      \"Python\",\n",
      "      \"C\",\n",
      "      \"C++\",\n",
      "      \"SQL\"\n",
      "    ],\n",
      "    \"Frameworks & Libraries\": [\n",
      "      \"LangChain\",\n",
      "      \"PyTorch\",\n",
      "      \"NumPy\",\n",
      "      \"OpenAI API\"\n",
      "    ],\n",
      "    \"Tools & Platforms\": [\n",
      "      \"Docker\",\n",
      "      \"Azure\",\n",
      "      \"Git\",\n",
      "      \"Cosmos DB\"\n",
      "    ]\n",
      "  },\n",
      "  \"Relevant Projects\": [\n",
      "    {\n",
      "      \"Title\": \"Master's Thesis: Enhancing CycleGAN for Day-to-Night Image Translation\",\n",
      "      \"Skills\": \"Python, PyTorch, GANs, Transfer Learning, Deep Learning\"\n",
      "    },\n",
      "    {\n",
      "      \"Title\": \"Automated Web Development with the DeepSeek API\",\n",
      "      \"Skills\": \"Python, TypeScript, Flask, React, API Integration\"\n",
      "    }\n",
      "  ]\n",
      "}\n",
      "Starting attempt\n",
      "Attempt complete\n",
      "CV saved to tailored_cv.docx\n",
      "=================================\u001b[1m Tool Message \u001b[0m=================================\n",
      "Name: generate_tailored_cv\n",
      "\n",
      "tailored_cv.docx\n",
      "==================================\u001b[1m Ai Message \u001b[0m==================================\n",
      "\n",
      "I have generated a tailored CV based on the job description you provided. You can find the CV [here](sandbox:/tailored_cv.docx). Please review the document and let me know if you'd like to convert it to a PDF format.\n"
     ]
    }
   ],
   "source": [
    "# Use the agent\n",
    "config = {\"configurable\": {\"thread_id\": \"abc123\"}}\n",
    "\n",
    "input_message = {\n",
    "    \"role\": \"user\",\n",
    "    \"content\": \"Generate a tailored CV. Use the job description at job_description.txt.\",\n",
    "}\n",
    "for step in agent_executor.stream(\n",
    "    {\"messages\": [input_message]}, config, stream_mode=\"values\"\n",
    "):\n",
    "    step[\"messages\"][-1].pretty_print()"
   ]
  },
  {
   "cell_type": "code",
   "execution_count": 3,
   "id": "87e76093",
   "metadata": {},
   "outputs": [
    {
     "name": "stdout",
     "output_type": "stream",
     "text": [
      "================================\u001b[1m Human Message \u001b[0m=================================\n",
      "\n",
      "Convert it to pdf\n",
      "==================================\u001b[1m Ai Message \u001b[0m==================================\n",
      "Tool Calls:\n",
      "  convert_to_pdf (call_NCrAQbc9fbtBsaIgNZIpK3nw)\n",
      " Call ID: call_NCrAQbc9fbtBsaIgNZIpK3nw\n",
      "  Args:\n",
      "    path_to_word_doc: tailored_cv.docx\n",
      "=================================\u001b[1m Tool Message \u001b[0m=================================\n",
      "Name: convert_to_pdf\n",
      "\n",
      "false\n",
      "==================================\u001b[1m Ai Message \u001b[0m==================================\n",
      "\n",
      "I'm sorry, but there was an issue converting the CV to PDF. You may want to manually convert using your local applications or online tools.\n"
     ]
    }
   ],
   "source": [
    "input_message = {\n",
    "    \"role\": \"user\",\n",
    "    \"content\": \"Convert it to pdf\",\n",
    "}\n",
    "for step in agent_executor.stream(\n",
    "    {\"messages\": [input_message]}, config, stream_mode=\"values\"\n",
    "):\n",
    "    step[\"messages\"][-1].pretty_print()"
   ]
  }
 ],
 "metadata": {
  "kernelspec": {
   "display_name": ".venv (3.11.5)",
   "language": "python",
   "name": "python3"
  },
  "language_info": {
   "codemirror_mode": {
    "name": "ipython",
    "version": 3
   },
   "file_extension": ".py",
   "mimetype": "text/x-python",
   "name": "python",
   "nbconvert_exporter": "python",
   "pygments_lexer": "ipython3",
   "version": "3.11.5"
  }
 },
 "nbformat": 4,
 "nbformat_minor": 5
}
