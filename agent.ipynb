{
 "cells": [
  {
   "cell_type": "code",
   "execution_count": 2,
   "id": "2813678e",
   "metadata": {},
   "outputs": [],
   "source": [
    "# Import relevant functionality\n",
    "from langchain.chat_models import init_chat_model\n",
    "from langgraph.checkpoint.memory import MemorySaver\n",
    "from langgraph.prebuilt import create_react_agent\n",
    "\n",
    "from tools.generate_tailored_cv import generate_tailored_cv\n",
    "from tools.convert_to_pdf import convert_to_pdf\n",
    "\n",
    "# Create the agent\n",
    "memory = MemorySaver()\n",
    "model = init_chat_model(\"openai:gpt-4\")\n",
    "tools = [generate_tailored_cv, convert_to_pdf]\n",
    "agent_executor = create_react_agent(model, tools, checkpointer=memory)"
   ]
  },
  {
   "cell_type": "code",
   "execution_count": 3,
   "id": "76a685e6",
   "metadata": {},
   "outputs": [
    {
     "name": "stdout",
     "output_type": "stream",
     "text": [
      "================================\u001b[1m Human Message \u001b[0m=================================\n",
      "\n",
      "[{'type': 'text', 'text': 'Generate a tailored CV. Use the following parameters:\\npath_to_job_listing: inputs/job_descriptions/job_description.txt\\npath_to_projects_info: inputs/user_details/projects.txt\\npath_to_response_format: inputs/cv_template/response_format.txt\\npath_to_cv_template: inputs/cv_template/cv_template.docx\\npath_to_output_cv: outputs/tailored_cv.docx'}]\n",
      "==================================\u001b[1m Ai Message \u001b[0m==================================\n",
      "Tool Calls:\n",
      "  generate_tailored_cv (call_fGzeDraa3QtpbES4U9SdzbJy)\n",
      " Call ID: call_fGzeDraa3QtpbES4U9SdzbJy\n",
      "  Args:\n",
      "    path_to_job_listing: inputs/job_descriptions/job_description.txt\n",
      "    path_to_projects_info: inputs/user_details/projects.txt\n",
      "    path_to_response_format: inputs/cv_template/response_format.txt\n",
      "    path_to_cv_template: inputs/cv_template/cv_template.docx\n",
      "    path_to_output_cv: outputs/tailored_cv.docx\n",
      "{\n",
      "  \"Profile\": \"Software Engineer with expertise in building scalable AI solutions and a strong foundation in Python and microservices architectures. Experience in developing agentic AI workflows and simplifying complex systems to deliver efficient, impactful software. Driven and collaborative, with a history of contributing to high-profile projects and a passion for continuous learning and innovation.\",\n",
      "  \"Technical Skills\": {\n",
      "    \"Key Competencies\": [\n",
      "      \"Agentic AI\",\n",
      "      \"Microservices\",\n",
      "      \"AI Research\"\n",
      "    ],\n",
      "    \"Programming Languages\": [\n",
      "      \"Python\",\n",
      "      \"C\",\n",
      "      \"SQL\",\n",
      "      \"C++\"\n",
      "    ],\n",
      "    \"Frameworks & Libraries\": [\n",
      "      \"PyTorch\",\n",
      "      \"LangChain\",\n",
      "      \"OpenAI API\",\n",
      "      \"Pandas\"\n",
      "    ],\n",
      "    \"Tools & Platforms\": [\n",
      "      \"Docker\",\n",
      "      \"Azure\",\n",
      "      \"Git\",\n",
      "      \"Kubernetes\"\n",
      "    ]\n",
      "  },\n",
      "  \"Relevant Projects\": [\n",
      "    {\n",
      "      \"Title\": \"Master's Thesis: Enhancing CycleGAN for Day-to-Night Image Translation\",\n",
      "      \"Skills\": \"Python, PyTorch, GANs, Transfer Learning, Deep Learning\"\n",
      "    },\n",
      "    {\n",
      "      \"Title\": \"Automated Web Development with the DeepSeek API\",\n",
      "      \"Skills\": \"Python, TypeScript, Flask, React, API Integration\"\n",
      "    }\n",
      "  ]\n",
      "}\n",
      "Starting attempt\n",
      "Attempt complete\n",
      "CV saved to outputs/tailored_cv.docx\n",
      "=================================\u001b[1m Tool Message \u001b[0m=================================\n",
      "Name: generate_tailored_cv\n",
      "\n",
      "outputs/tailored_cv.docx\n",
      "==================================\u001b[1m Ai Message \u001b[0m==================================\n",
      "\n",
      "The tailored CV has been successfully generated. You can find it in the path 'outputs/tailored_cv.docx'. If needed, you can further inspect and edit it. If the document is final, I can convert it from a Word document to a pdf for your convenience. Just let me know!\n"
     ]
    }
   ],
   "source": [
    "# Use the agent\n",
    "config = {\"configurable\": {\"thread_id\": \"abc123\"}}\n",
    "\n",
    "input_message = {\n",
    "    \"role\": \"user\",\n",
    "    \"content\": [\n",
    "        {\n",
    "            \"type\": \"text\",\n",
    "            \"text\": (\n",
    "                \"Generate a tailored CV. Use the following parameters:\\n\"\n",
    "                \"path_to_job_listing: inputs/job_descriptions/job_description.txt\\n\"\n",
    "                \"path_to_projects_info: inputs/user_details/projects.txt\\n\"\n",
    "                \"path_to_response_format: inputs/cv_template/response_format.txt\\n\"\n",
    "                \"path_to_cv_template: inputs/cv_template/cv_template.docx\\n\"\n",
    "                \"path_to_output_cv: outputs/tailored_cv.docx\"\n",
    "            ),\n",
    "        }\n",
    "    ],\n",
    "}\n",
    "\n",
    "for step in agent_executor.stream(\n",
    "    {\"messages\": [input_message]}, config, stream_mode=\"values\"\n",
    "):\n",
    "    step[\"messages\"][-1].pretty_print()"
   ]
  },
  {
   "cell_type": "code",
   "execution_count": 3,
   "id": "87e76093",
   "metadata": {},
   "outputs": [
    {
     "name": "stdout",
     "output_type": "stream",
     "text": [
      "================================\u001b[1m Human Message \u001b[0m=================================\n",
      "\n",
      "Convert it to pdf\n",
      "==================================\u001b[1m Ai Message \u001b[0m==================================\n",
      "Tool Calls:\n",
      "  convert_to_pdf (call_NCrAQbc9fbtBsaIgNZIpK3nw)\n",
      " Call ID: call_NCrAQbc9fbtBsaIgNZIpK3nw\n",
      "  Args:\n",
      "    path_to_word_doc: tailored_cv.docx\n",
      "=================================\u001b[1m Tool Message \u001b[0m=================================\n",
      "Name: convert_to_pdf\n",
      "\n",
      "false\n",
      "==================================\u001b[1m Ai Message \u001b[0m==================================\n",
      "\n",
      "I'm sorry, but there was an issue converting the CV to PDF. You may want to manually convert using your local applications or online tools.\n"
     ]
    }
   ],
   "source": [
    "input_message = {\n",
    "    \"role\": \"user\",\n",
    "    \"content\": \"Convert it to pdf\",\n",
    "}\n",
    "for step in agent_executor.stream(\n",
    "    {\"messages\": [input_message]}, config, stream_mode=\"values\"\n",
    "):\n",
    "    step[\"messages\"][-1].pretty_print()"
   ]
  }
 ],
 "metadata": {
  "kernelspec": {
   "display_name": ".venv (3.11.5)",
   "language": "python",
   "name": "python3"
  },
  "language_info": {
   "codemirror_mode": {
    "name": "ipython",
    "version": 3
   },
   "file_extension": ".py",
   "mimetype": "text/x-python",
   "name": "python",
   "nbconvert_exporter": "python",
   "pygments_lexer": "ipython3",
   "version": "3.11.5"
  }
 },
 "nbformat": 4,
 "nbformat_minor": 5
}
